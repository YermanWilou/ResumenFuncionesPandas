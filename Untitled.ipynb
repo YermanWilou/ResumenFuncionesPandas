{
 "cells": [
  {
   "cell_type": "markdown",
   "id": "acb5cb85",
   "metadata": {},
   "source": [
    "# Video Pandas#\n",
    "### df.tail(\"n\") ------> entrega los ultimos valores(filas)\n",
    "### df.head(\"n\") -----> entrega los n primeros valores(filas)\n",
    "### df.columns ------ > entrega la primera fila \n",
    "### df[\"nombre_columna\"][fila_deseada:fila_deseada]\n",
    "### df.\"nombre_columna\" -------> entrega todo lo de la columna \"nombre_columna\n",
    "### df[[\"columna1\", \"columna2\", \"columna3\"]] -----> entrega toda esas columnas\n",
    "### df.iloc[\"numero1\"] ------> entrega una fila en especifico\n",
    "### df.iloc[\"numero1\":\"numero2\"] ------> entrega un rango de filas especifico\n",
    "### df.iloc[\"numero1\",\"numero2\"] -------- > entrega que hay en esa posicion especifica \n",
    "     '''\n",
    "     for index, row in df.iterrows(): -----> Imprime todas las filas con su atributo correspondiente\n",
    "         print(index,row)\n",
    "        \n",
    "     for index, row in df.iterrows(): ---------> imprime la posicion y lo que le corresponde a [\"atributo que uno quiere\"]\n",
    "         print(index,row[\"atributo que uno quiere\"]\n",
    "      '''\n"
   ]
  },
  {
   "cell_type": "code",
   "execution_count": 55,
   "id": "0246deeb",
   "metadata": {},
   "outputs": [
    {
     "name": "stdout",
     "output_type": "stream",
     "text": [
      "['Arica', 'Camarones', 'General Lagos', 'Putre', 'Desconocido Arica y Parinacota', 'Alto Hospicio', 'Camina', 'Colchane', 'Huara', 'Iquique', 'Pica', 'Pozo Almonte', 'Desconocido Tarapaca', 'Antofagasta', 'Calama', 'Maria Elena', 'Mejillones', 'Ollague', 'San Pedro de Atacama', 'Sierra Gorda', 'Taltal', 'Tocopilla', 'Desconocido Antofagasta', 'Alto del Carmen', 'Caldera', 'Chanaral', 'Copiapo', 'Diego de Almagro', 'Freirina', 'Huasco', 'Tierra Amarilla', 'Vallenar', 'Desconocido Atacama', 'Andacollo', 'Canela', 'Combarbala', 'Coquimbo', 'Illapel', 'La Higuera', 'La Serena', 'Los Vilos', 'Monte Patria', 'Ovalle', 'Paiguano', 'Punitaqui', 'Rio Hurtado', 'Salamanca', 'Vicuna', 'Desconocido Coquimbo', 'Algarrobo', 'Cabildo', 'Calera', 'Calle Larga', 'Cartagena', 'Casablanca', 'Catemu', 'Concon', 'El Quisco', 'El Tabo', 'Hijuelas', 'Isla de Pascua', 'Juan Fernandez', 'La Cruz', 'La Ligua', 'Limache', 'Llaillay', 'Los Andes', 'Nogales', 'Olmue', 'Panquehue', 'Papudo', 'Petorca', 'Puchuncavi', 'Putaendo', 'Quillota', 'Quilpue', 'Quintero', 'Rinconada', 'San Antonio', 'San Esteban', 'San Felipe', 'Santa Maria', 'Santo Domingo', 'Valparaiso', 'Villa Alemana', 'Vina del Mar', 'Zapallar', 'Desconocido Valparaiso', 'Alhue', 'Buin', 'Calera de Tango', 'Cerrillos', 'Cerro Navia', 'Colina', 'Conchali', 'Curacavi', 'El Bosque', 'El Monte', 'Estacion Central', 'Huechuraba', 'Independencia', 'Isla de Maipo', 'La Cisterna', 'La Florida', 'La Granja', 'La Pintana', 'La Reina', 'Lampa', 'Las Condes', 'Lo Barnechea', 'Lo Espejo', 'Lo Prado', 'Macul', 'Maipu', 'Maria Pinto', 'Melipilla', 'Nunoa', 'Padre Hurtado', 'Paine', 'Pedro Aguirre Cerda', 'Penaflor', 'Penalolen', 'Pirque', 'Providencia', 'Pudahuel', 'Puente Alto', 'Quilicura', 'Quinta Normal', 'Recoleta', 'Renca', 'San Bernardo', 'San Joaquin', 'San Jose de Maipo', 'San Miguel', 'San Pedro', 'San Ramon', 'Santiago', 'Talagante', 'Tiltil', 'Vitacura', 'Desconocido Metropolitana', 'Chepica', 'Chimbarongo', 'Codegua', 'Coinco', 'Coltauco', 'Donihue', 'Graneros', 'La Estrella', 'Las Cabras', 'Litueche', 'Lolol', 'Machali', 'Malloa', 'Marchihue', 'Mostazal', 'Nancagua', 'Navidad', 'Olivar', 'Palmilla', 'Paredones', 'Peralillo', 'Peumo', 'Pichidegua', 'Pichilemu', 'Placilla', 'Pumanque', 'Quinta de Tilcoco', 'Rancagua', 'Rengo', 'Requinoa', 'San Fernando', 'San Vicente', 'Santa Cruz', 'Desconocido O’Higgins', 'Cauquenes', 'Chanco', 'Colbun', 'Constitucion', 'Curepto', 'Curico', 'Empedrado', 'Hualane', 'Licanten', 'Linares', 'Longavi', 'Maule', 'Molina', 'Parral', 'Pelarco', 'Pelluhue', 'Pencahue', 'Rauco', 'Retiro', 'Rio Claro', 'Romeral', 'Sagrada Familia', 'San Clemente', 'San Javier', 'San Rafael', 'Talca', 'Teno', 'Vichuquen', 'Villa Alegre', 'Yerbas Buenas', 'Desconocido Maule', 'Bulnes', 'Chillan', 'Chillan Viejo', 'Cobquecura', 'Coelemu', 'Coihueco', 'El Carmen', 'Ninhue', 'Niquen', 'Pemuco', 'Pinto', 'Portezuelo', 'Quillon', 'Quirihue', 'Ranquil', 'San Carlos', 'San Fabian', 'San Ignacio', 'San Nicolas', 'Treguaco', 'Yungay', 'Desconocido Nuble', 'Alto Biobio', 'Antuco', 'Arauco', 'Cabrero', 'Canete', 'Chiguayante', 'Concepcion', 'Contulmo', 'Coronel', 'Curanilahue', 'Florida', 'Hualpen', 'Hualqui', 'Laja', 'Lebu', 'Los Alamos', 'Los Angeles', 'Lota', 'Mulchen', 'Nacimiento', 'Negrete', 'Penco', 'Quilaco', 'Quilleco', 'San Pedro de la Paz', 'San Rosendo', 'Santa Barbara', 'Santa Juana', 'Talcahuano', 'Tirua', 'Tome', 'Tucapel', 'Yumbel', 'Desconocido Biobio', 'Angol', 'Carahue', 'Cholchol', 'Collipulli', 'Cunco', 'Curacautin', 'Curarrehue', 'Ercilla', 'Freire', 'Galvarino', 'Gorbea', 'Lautaro', 'Loncoche', 'Lonquimay', 'Los Sauces', 'Lumaco', 'Melipeuco', 'Nueva Imperial', 'Padre Las Casas', 'Perquenco', 'Pitrufquen', 'Pucon', 'Puren', 'Renaico', 'Saavedra', 'Temuco', 'Teodoro Schmidt', 'Tolten', 'Traiguen', 'Victoria', 'Vilcun', 'Villarrica', 'Desconocido Araucania', 'Corral', 'Futrono', 'La Union', 'Lago Ranco', 'Lanco', 'Los Lagos', 'Mafil', 'Mariquina', 'Paillaco', 'Panguipulli', 'Rio Bueno', 'Valdivia', 'Desconocido Los Rios', 'Ancud', 'Calbuco', 'Castro', 'Chaiten', 'Chonchi', 'Cochamo', 'Curaco de Velez', 'Dalcahue', 'Fresia', 'Frutillar', 'Futaleufu', 'Hualaihue', 'Llanquihue', 'Los Muermos', 'Maullin', 'Osorno', 'Palena', 'Puerto Montt', 'Puerto Octay', 'Puerto Varas', 'Puqueldon', 'Purranque', 'Puyehue', 'Queilen', 'Quellon', 'Quemchi', 'Quinchao', 'Rio Negro', 'San Juan de la Costa', 'San Pablo', 'Desconocido Los Lagos', 'Aysen', 'Chile Chico', 'Cisnes', 'Cochrane', 'Coyhaique', 'Guaitecas', 'Lago Verde', 'OHiggins', 'Rio Ibanez', 'Tortel', 'Desconocido Aysen', 'Antartica', 'Cabo de Hornos', 'Laguna Blanca', 'Natales', 'Porvenir', 'Primavera', 'Punta Arenas', 'Rio Verde', 'San Gregorio', 'Timaukel', 'Torres del Paine', 'Desconocido Magallanes']\n"
     ]
    },
    {
     "ename": "TypeError",
     "evalue": "slice indices must be integers or None or have an __index__ method",
     "output_type": "error",
     "traceback": [
      "\u001b[1;31m---------------------------------------------------------------------------\u001b[0m",
      "\u001b[1;31mTypeError\u001b[0m                                 Traceback (most recent call last)",
      "\u001b[1;32m~\\AppData\\Local\\Temp/ipykernel_11756/2483405528.py\u001b[0m in \u001b[0;36m<module>\u001b[1;34m\u001b[0m\n\u001b[0;32m      7\u001b[0m     \u001b[0mlista1\u001b[0m\u001b[1;33m.\u001b[0m\u001b[0mappend\u001b[0m\u001b[1;33m(\u001b[0m\u001b[0mdf\u001b[0m\u001b[1;33m.\u001b[0m\u001b[0miloc\u001b[0m\u001b[1;33m[\u001b[0m\u001b[0mindex\u001b[0m\u001b[1;33m]\u001b[0m\u001b[1;33m)\u001b[0m\u001b[1;33m\u001b[0m\u001b[1;33m\u001b[0m\u001b[0m\n\u001b[0;32m      8\u001b[0m \u001b[0mprint\u001b[0m\u001b[1;33m(\u001b[0m\u001b[0mlista\u001b[0m\u001b[1;33m)\u001b[0m\u001b[1;33m\u001b[0m\u001b[1;33m\u001b[0m\u001b[0m\n\u001b[1;32m----> 9\u001b[1;33m \u001b[0mcols\u001b[0m \u001b[1;33m=\u001b[0m \u001b[0mlist\u001b[0m\u001b[1;33m(\u001b[0m\u001b[0mdf\u001b[0m\u001b[1;33m.\u001b[0m\u001b[0mcolumns\u001b[0m\u001b[1;33m[\u001b[0m\u001b[1;34m\"2021-02-01\"\u001b[0m\u001b[1;33m:\u001b[0m\u001b[1;34m\"2021-08-16\"\u001b[0m\u001b[1;33m]\u001b[0m\u001b[1;33m)\u001b[0m\u001b[1;33m\u001b[0m\u001b[1;33m\u001b[0m\u001b[0m\n\u001b[0m\u001b[0;32m     10\u001b[0m \u001b[0mprint\u001b[0m\u001b[1;33m(\u001b[0m\u001b[0mcols\u001b[0m\u001b[1;33m)\u001b[0m\u001b[1;33m\u001b[0m\u001b[1;33m\u001b[0m\u001b[0m\n\u001b[0;32m     11\u001b[0m \u001b[1;33m\u001b[0m\u001b[0m\n",
      "\u001b[1;32mc:\\users\\chile\\appdata\\local\\programs\\python\\python39\\lib\\site-packages\\pandas\\core\\indexes\\base.py\u001b[0m in \u001b[0;36m__getitem__\u001b[1;34m(self, key)\u001b[0m\n\u001b[0;32m   4607\u001b[0m             \u001b[1;31m# This case is separated from the conditional above to avoid\u001b[0m\u001b[1;33m\u001b[0m\u001b[1;33m\u001b[0m\u001b[1;33m\u001b[0m\u001b[0m\n\u001b[0;32m   4608\u001b[0m             \u001b[1;31m# pessimization of basic indexing.\u001b[0m\u001b[1;33m\u001b[0m\u001b[1;33m\u001b[0m\u001b[1;33m\u001b[0m\u001b[0m\n\u001b[1;32m-> 4609\u001b[1;33m             \u001b[0mresult\u001b[0m \u001b[1;33m=\u001b[0m \u001b[0mgetitem\u001b[0m\u001b[1;33m(\u001b[0m\u001b[0mkey\u001b[0m\u001b[1;33m)\u001b[0m\u001b[1;33m\u001b[0m\u001b[1;33m\u001b[0m\u001b[0m\n\u001b[0m\u001b[0;32m   4610\u001b[0m             \u001b[1;31m# Going through simple_new for performance.\u001b[0m\u001b[1;33m\u001b[0m\u001b[1;33m\u001b[0m\u001b[1;33m\u001b[0m\u001b[0m\n\u001b[0;32m   4611\u001b[0m             \u001b[1;32mreturn\u001b[0m \u001b[0mtype\u001b[0m\u001b[1;33m(\u001b[0m\u001b[0mself\u001b[0m\u001b[1;33m)\u001b[0m\u001b[1;33m.\u001b[0m\u001b[0m_simple_new\u001b[0m\u001b[1;33m(\u001b[0m\u001b[0mresult\u001b[0m\u001b[1;33m,\u001b[0m \u001b[0mname\u001b[0m\u001b[1;33m=\u001b[0m\u001b[0mself\u001b[0m\u001b[1;33m.\u001b[0m\u001b[0m_name\u001b[0m\u001b[1;33m)\u001b[0m\u001b[1;33m\u001b[0m\u001b[1;33m\u001b[0m\u001b[0m\n",
      "\u001b[1;31mTypeError\u001b[0m: slice indices must be integers or None or have an __index__ method"
     ]
    }
   ],
   "source": [
    "import pandas as pd\n",
    "lista = list()  ###### lista \n",
    "lista1 = list() ###### lista de listas con todos los elementos\n",
    "df = pd.read_csv(\"Covid-19.csv\")\n",
    "for index, row in df.iterrows():\n",
    "    lista.append(row[\"Comuna\"] )\n",
    "    lista1.append(df.iloc[index])\n",
    "print(lista)\n",
    "cols = list(df.columns[\"2021-02-01\":\"2021-08-16\"])\n",
    "print(cols)\n",
    "\n"
   ]
  },
  {
   "cell_type": "markdown",
   "id": "1b0ca59c",
   "metadata": {},
   "source": [
    "### df.loc[df[\"fecha\"] == \"rasgo que quiero\": [fecha]==16 -----------> genera un df con todas las filas que contienen el rasgo que se quiere\n",
    "### df.sort_values(\"columna\", ascending = False) ---- > ordena de forma creciente solo esa columna \n",
    "### df.sort_values([\"columna1\", \"columna2\"]) ---- > ordena  ambas segun orden \n",
    "### df.sort_values([\"columna1\", \"columna2\"], ascending = [1,0])  ---- > ordena columna1 de forma ascendente y la columna 2 de forma descendiente  \n",
    "### df[\"Algo\"] = df[\"Algo1\"] + df[\"Algo2] + df[\"Algo3] ------ > genera una nueva columna con la suma de los Algo\n",
    "### df.drop(columns = [\"nombre columna\"]) -------> elimina a columna \"nombre columna\"\n",
    "\n",
    "\n",
    "  "
   ]
  }
 ],
 "metadata": {
  "kernelspec": {
   "display_name": "Python 3 (ipykernel)",
   "language": "python",
   "name": "python3"
  },
  "language_info": {
   "codemirror_mode": {
    "name": "ipython",
    "version": 3
   },
   "file_extension": ".py",
   "mimetype": "text/x-python",
   "name": "python",
   "nbconvert_exporter": "python",
   "pygments_lexer": "ipython3",
   "version": "3.9.6"
  }
 },
 "nbformat": 4,
 "nbformat_minor": 5
}
