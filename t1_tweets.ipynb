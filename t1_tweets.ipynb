{
 "cells": [
  {
   "cell_type": "code",
   "execution_count": 68,
   "metadata": {},
   "outputs": [
    {
     "name": "stderr",
     "output_type": "stream",
     "text": [
      "C:\\Users\\chile\\AppData\\Local\\Temp\\ipykernel_4276\\3106212413.py:6: FutureWarning: The demoji.download_codes attribute is deprecated and will be removed from demoji in a future version. It is an unused attribute as emoji codes are now distributed directly with the demoji package.\n",
      "  demoji.download_codes()\n",
      "[nltk_data] Downloading package stopwords to\n",
      "[nltk_data]     C:\\Users\\chile\\AppData\\Roaming\\nltk_data...\n",
      "[nltk_data]   Package stopwords is already up-to-date!\n",
      "[nltk_data] Downloading package punkt to\n",
      "[nltk_data]     C:\\Users\\chile\\AppData\\Roaming\\nltk_data...\n",
      "[nltk_data]   Package punkt is already up-to-date!\n"
     ]
    },
    {
     "data": {
      "text/plain": [
       "True"
      ]
     },
     "execution_count": 68,
     "metadata": {},
     "output_type": "execute_result"
    }
   ],
   "source": [
    "from datasketch import MinHash, MinHashLSH\n",
    "import kshingle as ks\n",
    "import numpy as np\n",
    "import pandas as pd\n",
    "import demoji\n",
    "demoji.download_codes()\n",
    "import re\n",
    "import nltk\n",
    "from nltk.corpus import stopwords\n",
    "from nltk.tokenize import word_tokenize\n",
    "nltk.download('stopwords')\n",
    "nltk.download('punkt')"
   ]
  },
  {
   "cell_type": "code",
   "execution_count": 69,
   "metadata": {},
   "outputs": [
    {
     "data": {
      "text/plain": [
       "(4594980, 6)"
      ]
     },
     "execution_count": 69,
     "metadata": {},
     "output_type": "execute_result"
    }
   ],
   "source": [
    "df_tweets = pd.read_csv('tweets_2022_abril_junio.csv')\n",
    "df_tweets.shape"
   ]
  },
  {
   "cell_type": "code",
   "execution_count": 70,
   "metadata": {},
   "outputs": [
    {
     "data": {
      "text/plain": [
       "(4592806, 6)"
      ]
     },
     "execution_count": 70,
     "metadata": {},
     "output_type": "execute_result"
    }
   ],
   "source": [
    "df_tweets = df_tweets.drop_duplicates(subset='id')\n",
    "df_tweets.shape"
   ]
  },
  {
   "cell_type": "code",
   "execution_count": 71,
   "metadata": {},
   "outputs": [
    {
     "data": {
      "text/plain": [
       "(1266850, 6)"
      ]
     },
     "execution_count": 71,
     "metadata": {},
     "output_type": "execute_result"
    }
   ],
   "source": [
    "df_tweets = df_tweets[df_tweets['text'].apply(lambda x: \"RT @\" not in x)].reset_index(drop=True)\n",
    "df_tweets.shape"
   ]
  },
  {
   "cell_type": "code",
   "execution_count": 72,
   "metadata": {},
   "outputs": [],
   "source": [
    "stopwords_es = set(stopwords.words('spanish'))"
   ]
  },
  {
   "cell_type": "code",
   "execution_count": 73,
   "metadata": {},
   "outputs": [],
   "source": [
    "def remove_emojis(texto):\n",
    "    # Expresión regular para eliminar emojis\n",
    "    emoji_pattern = re.compile(\"[\"\n",
    "                               u\"\\U0001F600-\\U0001F64F\"  # emoticonos\n",
    "                               u\"\\U0001F300-\\U0001F5FF\"  # símbolos y pictogramas\n",
    "                               u\"\\U0001F680-\\U0001F6FF\"  # transporte y símbolos de mapa\n",
    "                               u\"\\U0001F1E0-\\U0001F1FF\"  # banderas de países\n",
    "                               u\"\\U00002500-\\U00002BEF\"  # caracteres chinos, japoneses y coreanos (CJK)\n",
    "                               u\"\\U00002702-\\U000027B0\"  # símbolos de negocio\n",
    "                               u\"\\U00002702-\\U000027B0\"  # flechas y símbolos diversos\n",
    "                               u\"\\U000024C2-\\U0001F251\"\n",
    "                               \"]+\", flags=re.UNICODE)\n",
    "    \n",
    "    # Eliminar emojis\n",
    "    texto_without_emojis = emoji_pattern.sub(r'', texto)\n",
    "    \n",
    "    # Preservar letras con tildes, la letra \"ñ\" y símbolos específicos\n",
    "    texto_final = re.sub(r'[^a-zA-Zá-úÁ-ÚñÑ@/: ,.;-_]+', '', texto_without_emojis)\n",
    "    \n",
    "    return texto_final"
   ]
  },
  {
   "cell_type": "code",
   "execution_count": 74,
   "metadata": {},
   "outputs": [],
   "source": [
    "def eliminar_stopwords_efficient(texto):\n",
    "    tokens = word_tokenize(texto, language='spanish')\n",
    "    texto_sin_stopwords = ' '.join([palabra for palabra in tokens if palabra.lower() not in stopwords_es]).lower()\n",
    "    texto_sin_emojis_y_stopwords = remove_emojis(texto_sin_stopwords)\n",
    "    return texto_sin_emojis_y_stopwords"
   ]
  },
  {
   "cell_type": "code",
   "execution_count": 75,
   "metadata": {},
   "outputs": [],
   "source": [
    "df_tweets['text'] = df_tweets['text'].apply(eliminar_stopwords_efficient)"
   ]
  },
  {
   "cell_type": "code",
   "execution_count": 76,
   "metadata": {},
   "outputs": [
    {
     "data": {
      "text/plain": [
       "(1266850, 6)"
      ]
     },
     "execution_count": 76,
     "metadata": {},
     "output_type": "execute_result"
    }
   ],
   "source": [
    "# Se eliminan los text que no tienen texto\n",
    "df_tweets = df_tweets.dropna(subset=['text'])\n",
    "df_tweets.shape"
   ]
  },
  {
   "cell_type": "code",
   "execution_count": 80,
   "metadata": {},
   "outputs": [],
   "source": [
    "sample = df_tweets.head(100000)"
   ]
  },
  {
   "attachments": {},
   "cell_type": "markdown",
   "metadata": {},
   "source": [
    "Se crean shingles"
   ]
  },
  {
   "cell_type": "code",
   "execution_count": 81,
   "metadata": {},
   "outputs": [
    {
     "name": "stderr",
     "output_type": "stream",
     "text": [
      "C:\\Users\\chile\\AppData\\Local\\Temp\\ipykernel_4276\\1631585143.py:2: SettingWithCopyWarning: \n",
      "A value is trying to be set on a copy of a slice from a DataFrame.\n",
      "Try using .loc[row_indexer,col_indexer] = value instead\n",
      "\n",
      "See the caveats in the documentation: https://pandas.pydata.org/pandas-docs/stable/user_guide/indexing.html#returning-a-view-versus-a-copy\n",
      "  sample['shingles'] = sample['text'].apply(lambda x: ks.shingleset_list(x, [5]))\n"
     ]
    },
    {
     "data": {
      "text/html": [
       "<div>\n",
       "<style scoped>\n",
       "    .dataframe tbody tr th:only-of-type {\n",
       "        vertical-align: middle;\n",
       "    }\n",
       "\n",
       "    .dataframe tbody tr th {\n",
       "        vertical-align: top;\n",
       "    }\n",
       "\n",
       "    .dataframe thead th {\n",
       "        text-align: right;\n",
       "    }\n",
       "</style>\n",
       "<table border=\"1\" class=\"dataframe\">\n",
       "  <thead>\n",
       "    <tr style=\"text-align: right;\">\n",
       "      <th></th>\n",
       "      <th>id</th>\n",
       "      <th>created_at</th>\n",
       "      <th>screen_name</th>\n",
       "      <th>text</th>\n",
       "      <th>favorite_count</th>\n",
       "      <th>retweet_count</th>\n",
       "      <th>shingles</th>\n",
       "    </tr>\n",
       "  </thead>\n",
       "  <tbody>\n",
       "    <tr>\n",
       "      <th>0</th>\n",
       "      <td>1512186668387913732</td>\n",
       "      <td>2022-04-07 21:52:51 UTC</td>\n",
       "      <td>simonlodijo</td>\n",
       "      <td>@ unveranonaranja @ ruidosafest @ franciscamus...</td>\n",
       "      <td>0</td>\n",
       "      <td>0</td>\n",
       "      <td>{@ fra,  @ di, naran, ic @ , afest, @ die, nna...</td>\n",
       "    </tr>\n",
       "    <tr>\n",
       "      <th>1</th>\n",
       "      <td>1512186985850544129</td>\n",
       "      <td>2022-04-07 21:54:07 UTC</td>\n",
       "      <td>MacaSimplemente</td>\n",
       "      <td>@ lasurivas @ elisaloncon @ siliconvalle @ val...</td>\n",
       "      <td>0</td>\n",
       "      <td>0</td>\n",
       "      <td>{e @ v, a roj, as va, nata , n @ s, s @ e, ton...</td>\n",
       "    </tr>\n",
       "    <tr>\n",
       "      <th>2</th>\n",
       "      <td>1512187189974683661</td>\n",
       "      <td>2022-04-07 21:54:55 UTC</td>\n",
       "      <td>LuisVer75699645</td>\n",
       "      <td>@ teanval @ izkia @ arturozunigaj excelente ...</td>\n",
       "      <td>0</td>\n",
       "      <td>0</td>\n",
       "      <td>{zkia , lente, nigaj, eanva, ia @ , aj ex, exc...</td>\n",
       "    </tr>\n",
       "    <tr>\n",
       "      <th>3</th>\n",
       "      <td>1512187226398076929</td>\n",
       "      <td>2022-04-07 21:55:04 UTC</td>\n",
       "      <td>MITERRED</td>\n",
       "      <td>@ mcubillossigall https : //t.co/gkgpwbzhz</td>\n",
       "      <td>0</td>\n",
       "      <td>0</td>\n",
       "      <td>{ll ht, igall,  mcub, https,  : //, gkgpw, co/...</td>\n",
       "    </tr>\n",
       "    <tr>\n",
       "      <th>4</th>\n",
       "      <td>1512187244248936452</td>\n",
       "      <td>2022-04-07 21:55:08 UTC</td>\n",
       "      <td>piaelizabethvm</td>\n",
       "      <td>@ simonlodijo @ ruidosafest @ franciscamusic @...</td>\n",
       "      <td>0</td>\n",
       "      <td>0</td>\n",
       "      <td>{@ fra,  @ di, ic @ , afest, o @ r, nnaro, sim...</td>\n",
       "    </tr>\n",
       "    <tr>\n",
       "      <th>...</th>\n",
       "      <td>...</td>\n",
       "      <td>...</td>\n",
       "      <td>...</td>\n",
       "      <td>...</td>\n",
       "      <td>...</td>\n",
       "      <td>...</td>\n",
       "      <td>...</td>\n",
       "    </tr>\n",
       "    <tr>\n",
       "      <th>99995</th>\n",
       "      <td>1513530869322956801</td>\n",
       "      <td>2022-04-11 14:54:13 UTC</td>\n",
       "      <td>Drags18</td>\n",
       "      <td>@ baradit significa cagamos ... buenos dias ve...</td>\n",
       "      <td>0</td>\n",
       "      <td>0</td>\n",
       "      <td>{nos d, orte , agamo, .. bu,  , ru, siaet,  ru...</td>\n",
       "    </tr>\n",
       "    <tr>\n",
       "      <th>99996</th>\n",
       "      <td>1513563086871007232</td>\n",
       "      <td>2022-04-11 17:02:15 UTC</td>\n",
       "      <td>marcelohjleiva</td>\n",
       "      <td>@ baradit tongos mentiras calumnias medios des...</td>\n",
       "      <td>0</td>\n",
       "      <td>0</td>\n",
       "      <td>{ nomb, as ca, umnia, edios, t ton, ongos, do ...</td>\n",
       "    </tr>\n",
       "    <tr>\n",
       "      <th>99997</th>\n",
       "      <td>1513573497271816192</td>\n",
       "      <td>2022-04-11 17:43:37 UTC</td>\n",
       "      <td>ElBachValdivian</td>\n",
       "      <td>@ berfontaine cuantos merluzos saldrán decir m...</td>\n",
       "      <td>0</td>\n",
       "      <td>0</td>\n",
       "      <td>{zos s, n dec, s sal, campa, ror ?, fonta, mpa...</td>\n",
       "    </tr>\n",
       "    <tr>\n",
       "      <th>99998</th>\n",
       "      <td>1513560209519611904</td>\n",
       "      <td>2022-04-11 16:50:49 UTC</td>\n",
       "      <td>TitoSolari68</td>\n",
       "      <td>@ biobio @ horastvn @ chvnoticias @ lun vergen...</td>\n",
       "      <td>0</td>\n",
       "      <td>0</td>\n",
       "      <td>{luir ,  @ ch, n ver, n @ c, icias, bio @, vno...</td>\n",
       "    </tr>\n",
       "    <tr>\n",
       "      <th>99999</th>\n",
       "      <td>1513674956177035270</td>\n",
       "      <td>2022-04-12 00:26:46 UTC</td>\n",
       "      <td>edoseemann</td>\n",
       "      <td>@ camilaemiliasv @ fernando_atria venezuela ta...</td>\n",
       "      <td>0</td>\n",
       "      <td>0</td>\n",
       "      <td>{esper, liasv, eo va, ación, ilias, oco ,, sv ...</td>\n",
       "    </tr>\n",
       "  </tbody>\n",
       "</table>\n",
       "<p>100000 rows × 7 columns</p>\n",
       "</div>"
      ],
      "text/plain": [
       "                        id               created_at      screen_name  \\\n",
       "0      1512186668387913732  2022-04-07 21:52:51 UTC      simonlodijo   \n",
       "1      1512186985850544129  2022-04-07 21:54:07 UTC  MacaSimplemente   \n",
       "2      1512187189974683661  2022-04-07 21:54:55 UTC  LuisVer75699645   \n",
       "3      1512187226398076929  2022-04-07 21:55:04 UTC         MITERRED   \n",
       "4      1512187244248936452  2022-04-07 21:55:08 UTC   piaelizabethvm   \n",
       "...                    ...                      ...              ...   \n",
       "99995  1513530869322956801  2022-04-11 14:54:13 UTC          Drags18   \n",
       "99996  1513563086871007232  2022-04-11 17:02:15 UTC   marcelohjleiva   \n",
       "99997  1513573497271816192  2022-04-11 17:43:37 UTC  ElBachValdivian   \n",
       "99998  1513560209519611904  2022-04-11 16:50:49 UTC     TitoSolari68   \n",
       "99999  1513674956177035270  2022-04-12 00:26:46 UTC       edoseemann   \n",
       "\n",
       "                                                    text  favorite_count  \\\n",
       "0      @ unveranonaranja @ ruidosafest @ franciscamus...               0   \n",
       "1      @ lasurivas @ elisaloncon @ siliconvalle @ val...               0   \n",
       "2        @ teanval @ izkia @ arturozunigaj excelente ...               0   \n",
       "3             @ mcubillossigall https : //t.co/gkgpwbzhz               0   \n",
       "4      @ simonlodijo @ ruidosafest @ franciscamusic @...               0   \n",
       "...                                                  ...             ...   \n",
       "99995  @ baradit significa cagamos ... buenos dias ve...               0   \n",
       "99996  @ baradit tongos mentiras calumnias medios des...               0   \n",
       "99997  @ berfontaine cuantos merluzos saldrán decir m...               0   \n",
       "99998  @ biobio @ horastvn @ chvnoticias @ lun vergen...               0   \n",
       "99999  @ camilaemiliasv @ fernando_atria venezuela ta...               0   \n",
       "\n",
       "       retweet_count                                           shingles  \n",
       "0                  0  {@ fra,  @ di, naran, ic @ , afest, @ die, nna...  \n",
       "1                  0  {e @ v, a roj, as va, nata , n @ s, s @ e, ton...  \n",
       "2                  0  {zkia , lente, nigaj, eanva, ia @ , aj ex, exc...  \n",
       "3                  0  {ll ht, igall,  mcub, https,  : //, gkgpw, co/...  \n",
       "4                  0  {@ fra,  @ di, ic @ , afest, o @ r, nnaro, sim...  \n",
       "...              ...                                                ...  \n",
       "99995              0  {nos d, orte , agamo, .. bu,  , ru, siaet,  ru...  \n",
       "99996              0  { nomb, as ca, umnia, edios, t ton, ongos, do ...  \n",
       "99997              0  {zos s, n dec, s sal, campa, ror ?, fonta, mpa...  \n",
       "99998              0  {luir ,  @ ch, n ver, n @ c, icias, bio @, vno...  \n",
       "99999              0  {esper, liasv, eo va, ación, ilias, oco ,, sv ...  \n",
       "\n",
       "[100000 rows x 7 columns]"
      ]
     },
     "execution_count": 81,
     "metadata": {},
     "output_type": "execute_result"
    }
   ],
   "source": [
    "# Crear el shingle de cada tweet\n",
    "sample['shingles'] = sample['text'].apply(lambda x: ks.shingleset_list(x, [5]))\n",
    "sample"
   ]
  },
  {
   "cell_type": "code",
   "execution_count": 82,
   "metadata": {},
   "outputs": [],
   "source": [
    "# Crear un diccionario con key = id y value = shingles\n",
    "dict_shingles = {}\n",
    "\n",
    "for i in sample.index:\n",
    "    id_tweet = sample[\"id\"][i]\n",
    "    shingles = sample[\"shingles\"][i]\n",
    "    dict_shingles[id_tweet] = shingles\n",
    "\n"
   ]
  },
  {
   "cell_type": "code",
   "execution_count": 84,
   "metadata": {},
   "outputs": [
    {
     "data": {
      "text/plain": [
       "100000"
      ]
     },
     "execution_count": 84,
     "metadata": {},
     "output_type": "execute_result"
    }
   ],
   "source": [
    "# Se crea una lista de los usuarios\n",
    "ids_tweet = list(dict_shingles.keys())\n",
    "len(ids_tweet)"
   ]
  },
  {
   "cell_type": "code",
   "execution_count": 85,
   "metadata": {},
   "outputs": [],
   "source": [
    "dict_minhash = {}\n",
    "for id_tweet in ids_tweet:\n",
    "    shingles = dict_shingles[id_tweet]\n",
    "    m = MinHash(num_perm=50)\n",
    "    for d in shingles:\n",
    "        m.update(d.encode('utf8'))\n",
    "    dict_minhash[id_tweet] = m\n"
   ]
  },
  {
   "cell_type": "code",
   "execution_count": 91,
   "metadata": {},
   "outputs": [],
   "source": [
    "# Ahora vemos el MinHashLSH\n",
    "lsh = MinHashLSH(threshold=0.5, num_perm=50)\n",
    "for id_tweet in ids_tweet:\n",
    "    lsh.insert(id_tweet, dict_minhash[id_tweet])\n",
    "    "
   ]
  },
  {
   "cell_type": "code",
   "execution_count": 92,
   "metadata": {},
   "outputs": [],
   "source": [
    "sample_indexado = sample.set_index('id')"
   ]
  },
  {
   "cell_type": "code",
   "execution_count": 93,
   "metadata": {},
   "outputs": [],
   "source": [
    "# Se crea una función para buscar los tweets similares\n",
    "def buscar_tweets_similares(id_tweet, df_tweets, lsh, dict_minhash):\n",
    "    # Se obtiene el MinHash del tweet\n",
    "    m = dict_minhash[id_tweet]\n",
    "    \n",
    "    # Se obtienen los ids de los tweets similares\n",
    "    ids_similares = lsh.query(m)\n",
    "    \n",
    "    # Se obtienen los tweets similares\n",
    "    tweets_similares = df_tweets.loc[ids_similares]\n",
    "    \n",
    "    return tweets_similares\n"
   ]
  },
  {
   "cell_type": "code",
   "execution_count": 99,
   "metadata": {},
   "outputs": [
    {
     "data": {
      "text/html": [
       "<div>\n",
       "<style scoped>\n",
       "    .dataframe tbody tr th:only-of-type {\n",
       "        vertical-align: middle;\n",
       "    }\n",
       "\n",
       "    .dataframe tbody tr th {\n",
       "        vertical-align: top;\n",
       "    }\n",
       "\n",
       "    .dataframe thead th {\n",
       "        text-align: right;\n",
       "    }\n",
       "</style>\n",
       "<table border=\"1\" class=\"dataframe\">\n",
       "  <thead>\n",
       "    <tr style=\"text-align: right;\">\n",
       "      <th></th>\n",
       "      <th>created_at</th>\n",
       "      <th>screen_name</th>\n",
       "      <th>text</th>\n",
       "      <th>favorite_count</th>\n",
       "      <th>retweet_count</th>\n",
       "      <th>shingles</th>\n",
       "    </tr>\n",
       "    <tr>\n",
       "      <th>id</th>\n",
       "      <th></th>\n",
       "      <th></th>\n",
       "      <th></th>\n",
       "      <th></th>\n",
       "      <th></th>\n",
       "      <th></th>\n",
       "    </tr>\n",
       "  </thead>\n",
       "  <tbody>\n",
       "    <tr>\n",
       "      <th>1512186985850544129</th>\n",
       "      <td>2022-04-07 21:54:07 UTC</td>\n",
       "      <td>MacaSimplemente</td>\n",
       "      <td>@ lasurivas @ elisaloncon @ siliconvalle @ val...</td>\n",
       "      <td>0</td>\n",
       "      <td>0</td>\n",
       "      <td>{e @ v, a roj, as va, nata , n @ s, s @ e, ton...</td>\n",
       "    </tr>\n",
       "    <tr>\n",
       "      <th>1512221405248585728</th>\n",
       "      <td>2022-04-08 00:10:53 UTC</td>\n",
       "      <td>MacaSimplemente</td>\n",
       "      <td>@ criordor @ camibasven gracias rechazo</td>\n",
       "      <td>0</td>\n",
       "      <td>0</td>\n",
       "      <td>{r @ c, riord, acias, dor @, @ cam, chazo, iba...</td>\n",
       "    </tr>\n",
       "    <tr>\n",
       "      <th>1512016957855305729</th>\n",
       "      <td>2022-04-07 10:38:29 UTC</td>\n",
       "      <td>MacaSimplemente</td>\n",
       "      <td>@ rkatrileo ja ja ja mitómana</td>\n",
       "      <td>0</td>\n",
       "      <td>0</td>\n",
       "      <td>{ ja j, a ja , ómana, trile,  rkat, atril, eo ...</td>\n",
       "    </tr>\n",
       "    <tr>\n",
       "      <th>1512017519799726084</th>\n",
       "      <td>2022-04-07 10:40:43 UTC</td>\n",
       "      <td>MacaSimplemente</td>\n",
       "      <td>@ jaime_bassa puedes explicar canal contrataci...</td>\n",
       "      <td>0</td>\n",
       "      <td>0</td>\n",
       "      <td>{ cont, res a,  expl, trata, ataci, ión f, xpl...</td>\n",
       "    </tr>\n",
       "    <tr>\n",
       "      <th>1513216223202357250</th>\n",
       "      <td>2022-04-10 18:03:56 UTC</td>\n",
       "      <td>MacaSimplemente</td>\n",
       "      <td>@ richarddcorobo @ jaime_bassa @ berfontaine c...</td>\n",
       "      <td>0</td>\n",
       "      <td>0</td>\n",
       "      <td>{arddc, aro p, richa, e cla,  rich, chard, tai...</td>\n",
       "    </tr>\n",
       "  </tbody>\n",
       "</table>\n",
       "</div>"
      ],
      "text/plain": [
       "                                  created_at      screen_name  \\\n",
       "id                                                              \n",
       "1512186985850544129  2022-04-07 21:54:07 UTC  MacaSimplemente   \n",
       "1512221405248585728  2022-04-08 00:10:53 UTC  MacaSimplemente   \n",
       "1512016957855305729  2022-04-07 10:38:29 UTC  MacaSimplemente   \n",
       "1512017519799726084  2022-04-07 10:40:43 UTC  MacaSimplemente   \n",
       "1513216223202357250  2022-04-10 18:03:56 UTC  MacaSimplemente   \n",
       "\n",
       "                                                                  text  \\\n",
       "id                                                                       \n",
       "1512186985850544129  @ lasurivas @ elisaloncon @ siliconvalle @ val...   \n",
       "1512221405248585728            @ criordor @ camibasven gracias rechazo   \n",
       "1512016957855305729                      @ rkatrileo ja ja ja mitómana   \n",
       "1512017519799726084  @ jaime_bassa puedes explicar canal contrataci...   \n",
       "1513216223202357250  @ richarddcorobo @ jaime_bassa @ berfontaine c...   \n",
       "\n",
       "                     favorite_count  retweet_count  \\\n",
       "id                                                   \n",
       "1512186985850544129               0              0   \n",
       "1512221405248585728               0              0   \n",
       "1512016957855305729               0              0   \n",
       "1512017519799726084               0              0   \n",
       "1513216223202357250               0              0   \n",
       "\n",
       "                                                              shingles  \n",
       "id                                                                      \n",
       "1512186985850544129  {e @ v, a roj, as va, nata , n @ s, s @ e, ton...  \n",
       "1512221405248585728  {r @ c, riord, acias, dor @, @ cam, chazo, iba...  \n",
       "1512016957855305729  { ja j, a ja , ómana, trile,  rkat, atril, eo ...  \n",
       "1512017519799726084  { cont, res a,  expl, trata, ataci, ión f, xpl...  \n",
       "1513216223202357250  {arddc, aro p, richa, e cla,  rich, chard, tai...  "
      ]
     },
     "execution_count": 99,
     "metadata": {},
     "output_type": "execute_result"
    }
   ],
   "source": [
    "# Buscaremos quien escribe similar a un usuario en específico, para esto filtramos el dataframe por el usuario\n",
    "user_name = 'MacaSimplemente'\n",
    "df_user = sample_indexado[sample_indexado['screen_name'] == user_name]\n",
    "df_user.head()"
   ]
  },
  {
   "cell_type": "code",
   "execution_count": 100,
   "metadata": {},
   "outputs": [],
   "source": [
    "# iteramos sobre los tweets del usuario y buscamos los tweets similares, para esto usamos la función buscar_tweets_similares, guardamos las repeticiones en un diccionario de los usuarios similares, para saber quien es el usuario que más se repite\n",
    "dict_similares = {}\n",
    "for id_tweet in df_user.index:\n",
    "    tweets_similares = buscar_tweets_similares(id_tweet, sample_indexado, lsh, dict_minhash)\n",
    "    for id_similar in tweets_similares.index:\n",
    "        if id_similar != id_tweet:\n",
    "            screen_name = tweets_similares['screen_name'][id_similar]\n",
    "            if screen_name in dict_similares:\n",
    "                dict_similares[screen_name] += 1\n",
    "            else:\n",
    "                dict_similares[screen_name] = 1\n"
   ]
  },
  {
   "cell_type": "code",
   "execution_count": 102,
   "metadata": {},
   "outputs": [
    {
     "data": {
      "text/plain": [
       "'pita09443405'"
      ]
     },
     "execution_count": 102,
     "metadata": {},
     "output_type": "execute_result"
    }
   ],
   "source": [
    "# Obtener el usuario más similar \n",
    "max(dict_similares, key=dict_similares.get)"
   ]
  }
 ],
 "metadata": {
  "kernelspec": {
   "display_name": "Python 3",
   "language": "python",
   "name": "python3"
  },
  "language_info": {
   "codemirror_mode": {
    "name": "ipython",
    "version": 3
   },
   "file_extension": ".py",
   "mimetype": "text/x-python",
   "name": "python",
   "nbconvert_exporter": "python",
   "pygments_lexer": "ipython3",
   "version": "3.9.4"
  },
  "orig_nbformat": 4
 },
 "nbformat": 4,
 "nbformat_minor": 2
}
